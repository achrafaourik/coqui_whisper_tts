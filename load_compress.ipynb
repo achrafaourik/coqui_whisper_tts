{
 "cells": [
  {
   "cell_type": "code",
   "execution_count": 6,
   "id": "24ef2695",
   "metadata": {},
   "outputs": [],
   "source": [
    "import os\n",
    "import wave\n",
    "import numpy as np\n",
    "from scipy.io import wavfile\n",
    "\n",
    "\n",
    "def extract_first_13_seconds_from_wav(input_file):\n",
    "    with wave.open(input_file, 'rb') as wav_file:\n",
    "        num_frames = wav_file.getnframes()\n",
    "        sample_width = wav_file.getsampwidth()\n",
    "        num_channels = wav_file.getnchannels()\n",
    "        frame_rate = wav_file.getframerate()\n",
    "        total_duration = num_frames / float(frame_rate)\n",
    "\n",
    "        target_duration = 13.0  \n",
    "        percentage = target_duration / total_duration\n",
    "\n",
    "        start_frame = 0\n",
    "        end_frame = int(num_frames * percentage)\n",
    "\n",
    "        if end_frame < 0:\n",
    "            end_frame = 0\n",
    "        if end_frame >= num_frames:\n",
    "            end_frame = num_frames - 1\n",
    "\n",
    "        output_directory = os.path.dirname(input_file)\n",
    "        output_file = os.path.join(output_directory, 'output.wav')\n",
    "\n",
    "        with wave.open(output_file, 'wb') as output_wav:\n",
    "            output_wav.setnchannels(num_channels)\n",
    "            output_wav.setsampwidth(sample_width)\n",
    "            output_wav.setframerate(frame_rate)\n",
    "\n",
    "            output_wav.setnframes(end_frame - start_frame)\n",
    "            wav_file.setpos(start_frame)\n",
    "\n",
    "            output_wav.writeframes(wav_file.readframes(end_frame - start_frame))\n",
    "\n",
    "    # Downsampling begins here\n",
    "    # Read the output .wav file\n",
    "    sample_rate, data = wavfile.read(output_file)\n",
    "\n",
    "    # Half the sample rate\n",
    "    new_rate = sample_rate // 2\n",
    "\n",
    "    # Interleave the data if it's stereo\n",
    "    if len(data.shape) > 1:\n",
    "        data = np.mean(data, axis=1)\n",
    "\n",
    "    # Downsample the data\n",
    "    downsampled = data[::2]\n",
    "\n",
    "    # Write the new .wav file\n",
    "    compressed_output_file = os.path.join(output_directory, 'compressed_output.wav')\n",
    "    wavfile.write(compressed_output_file, new_rate, downsampled.astype(np.int16))\n"
   ]
  },
  {
   "cell_type": "code",
   "execution_count": 7,
   "id": "078e497e",
   "metadata": {},
   "outputs": [],
   "source": [
    "input_file = 'airi_0.wav'\n",
    "\n",
    "extract_first_13_seconds_from_wav(input_file)"
   ]
  },
  {
   "cell_type": "code",
   "execution_count": null,
   "id": "70fe3f1e",
   "metadata": {},
   "outputs": [],
   "source": []
  },
  {
   "cell_type": "code",
   "execution_count": null,
   "id": "df46e4bb",
   "metadata": {},
   "outputs": [],
   "source": []
  }
 ],
 "metadata": {
  "kernelspec": {
   "display_name": "Python 3 (ipykernel)",
   "language": "python",
   "name": "python3"
  },
  "language_info": {
   "codemirror_mode": {
    "name": "ipython",
    "version": 3
   },
   "file_extension": ".py",
   "mimetype": "text/x-python",
   "name": "python",
   "nbconvert_exporter": "python",
   "pygments_lexer": "ipython3",
   "version": "3.10.12"
  }
 },
 "nbformat": 4,
 "nbformat_minor": 5
}
